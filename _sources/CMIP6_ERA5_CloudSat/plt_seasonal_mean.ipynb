{
 "cells": [
  {
   "attachments": {},
   "cell_type": "markdown",
   "metadata": {},
   "source": [
    "# Analysis of CMIP6, ERA5, and CloudSat\n",
    "\n",
    "\n",
    "# Table of Contents\n",
    "<ul>\n",
    "<li><a href=\"#introduction\">1. Introduction</a></li>\n",
    "<li><a href=\"#data_wrangling\">2. Data Wrangling</a></li>\n",
    "<li><a href=\"#exploratory\">3. Exploratory Data Analysis</a></li>\n",
    "<li><a href=\"#conclusion\">4. Conclusion</a></li>\n",
    "<li><a href=\"#references\">5. References</a></li>\n",
    "</ul>\n",
    "\n",
    "# 1. Introduction <a id='introduction'></a>\n",
    "\n",
    "\n",
    "**Questions**\n",
    "* How is the cloud phase and snowfall \n",
    "\n",
    "\n",
    "> **_NOTE:_** .\n",
    "\n",
    "# 2. Data Wrangling <a id='data_wrangling'></a>\n",
    "\n",
    "\n",
    "## Organize my data\n",
    "\n",
    "- Define a prefix for my project (you may need to adjust it for your own usage on your infrastructure).\n",
    "    - input folder where all the data used as input to my Jupyter Notebook is stored (and eventually shared)\n",
    "    - output folder where all the results to keep are stored\n",
    "    - tool folder where all the tools\n",
    "\n",
    "The ERA5 0.25deg data is located in the folder `\\scratch\\franzihe\\`, CloudSat at ...\n",
    "\n"
   ]
  },
  {
   "cell_type": "code",
   "execution_count": null,
   "metadata": {},
   "outputs": [],
   "source": [
    "lwp_threshold = 5"
   ]
  },
  {
   "cell_type": "markdown",
   "metadata": {},
   "source": []
  },
  {
   "cell_type": "code",
   "execution_count": null,
   "metadata": {},
   "outputs": [],
   "source": [
    "import os\n",
    "import pathlib\n",
    "import sys\n",
    "import socket\n",
    "hostname = socket.gethostname()\n",
    "\n",
    "abs_path = str(pathlib.Path(hostname).parent.absolute())\n",
    "WORKDIR = abs_path[:- (len(abs_path.split('/')[-2] + abs_path.split('/')[-1])+1)]\n",
    "\n",
    "\n",
    "if \"mimi\" in hostname:\n",
    "    print(hostname)\n",
    "    DATA_DIR = \"/mn/vann/franzihe/\"\n",
    "    # FIG_DIR = \"/uio/kant/geo-geofag-u1/franzihe/Documents/Figures/ERA5/\"\n",
    "    FIG_DIR = f\"/uio/kant/geo-geofag-u1/franzihe/Documents/Python/globalsnow/CloudSat_ERA5_CMIP6_analysis/Figures/CS_ERA5_CMIP6_{lwp_threshold}/\"\n",
    "elif \"glefsekaldt\" in hostname: \n",
    "    DATA_DIR = \"/home/franzihe/Data/\"\n",
    "    FIG_DIR = \"/home/franzihe/Documents/Figures/ERA5/\"\n",
    "\n",
    "INPUT_DATA_DIR = os.path.join(DATA_DIR, 'input')\n",
    "OUTPUT_DATA_DIR = os.path.join(DATA_DIR, 'output')\n",
    "UTILS_DIR = os.path.join(WORKDIR, 'utils')\n",
    "FIG_DIR_mci = os.path.join(FIG_DIR, 'McIlhattan/')\n",
    "\n",
    "sys.path.append(UTILS_DIR)\n",
    "# make figure directory\n",
    "try:\n",
    "    os.mkdir(FIG_DIR)\n",
    "except OSError:\n",
    "    pass\n",
    "\n",
    "try:\n",
    "    os.mkdir(FIG_DIR_mci)\n",
    "except OSError:\n",
    "    pass"
   ]
  },
  {
   "attachments": {},
   "cell_type": "markdown",
   "metadata": {},
   "source": [
    "## Import python packages\n",
    "- `Python` environment requirements: file [requirements_globalsnow.txt](../../requirements_globalsnow.txt) \n",
    "- load `python` packages from [imports.py](../../utils/imports.py)\n",
    "- load `functions` from [functions.py](../../utils/functions.py)\n"
   ]
  },
  {
   "cell_type": "code",
   "execution_count": null,
   "metadata": {},
   "outputs": [],
   "source": [
    "# supress warnings\n",
    "import warnings\n",
    "warnings.filterwarnings('ignore') # don't output warnings\n",
    "\n",
    "# import packages\n",
    "from imports import(xr, ccrs, cy, plt, glob, cm, fct, np, pd, add_cyclic_point)\n",
    "# from matplotlib.lines import Line2D\n",
    "# from matplotlib.patches import Patch\n",
    "# from sklearn.metrics import r2_score\n",
    "\n",
    "\n",
    "xr.set_options(display_style='html')"
   ]
  },
  {
   "cell_type": "code",
   "execution_count": null,
   "metadata": {},
   "outputs": [],
   "source": [
    "# reload imports\n",
    "%load_ext autoreload\n",
    "%autoreload 2"
   ]
  },
  {
   "attachments": {},
   "cell_type": "markdown",
   "metadata": {},
   "source": [
    "## Open variables\n",
    "Get the data requried for the analysis. \n",
    "\n"
   ]
  },
  {
   "cell_type": "code",
   "execution_count": null,
   "metadata": {},
   "outputs": [],
   "source": [
    "dat_in = os.path.join(OUTPUT_DATA_DIR, 'CS_ERA5_CMIP6')\n",
    "\n",
    "# make output data directory\n",
    "# try:\n",
    "#     os.mkdir(dat_out)\n",
    "# except OSError:\n",
    "#     pass"
   ]
  },
  {
   "cell_type": "code",
   "execution_count": null,
   "metadata": {},
   "outputs": [],
   "source": [
    "ratios = xr.open_mfdataset(glob(f'{dat_in}/ratios_500/*LWP{lwp_threshold}*.nc'))\n",
    "ratios_mci = xr.open_mfdataset(glob(f'{dat_in}/ratios_500_mci/*LWP{lwp_threshold}*.nc'))"
   ]
  },
  {
   "cell_type": "code",
   "execution_count": null,
   "metadata": {},
   "outputs": [],
   "source": [
    "dict_label = {\n",
    "     # 'lcc_wo_snow': {'cb_label':'FsLCC (%)', 'levels':np.arange(0,110,10), 'vmin': 0, 'vmax':100, 'diff_levels':np.arange(-30,35,5), 'diff_vmin':-30, 'diff_vmax':30},\n",
    "#      'lcc_w_snow':  {'cb_label':'FoS in sLCCs (%)', 'levels':np.arange(0,110,10), 'vmin': 0, 'vmax':100, 'diff_levels':np.arange(-60,65,5), 'diff_vmin':-60, 'diff_vmax':60},\n",
    "#      'sf_eff':      {'cb_label':'SE in sLCCs (h$^{-1}$)', 'levels':np.arange(0,5.5,.5), 'vmin':0, 'vmax':5, 'diff_levels':np.arange(-1.2,1.4,.2), 'diff_vmin':-1.2, 'diff_vmax':1.2}#'Relative snowfall efficiency (h$^{-1}$)'\n",
    "     \n",
    "     'FLCC' : {'cb_label':'FLCC (%)',             'levels':np.arange(0,105.,5.), 'vmin':0, 'vmax': 100.,   'diff_levels':np.arange(-100,110,10),   'diff_vmin':-100, 'diff_vmax':100},\n",
    "     'FsLCC': {'cb_label':'FsLCC (%)',            'levels':np.arange(0,105.,5.), 'vmin':0, 'vmax': 100,   'diff_levels':np.arange(-100,110,10),   'diff_vmin':-100, 'diff_vmax':100},\n",
    "     # 'FoP'  : {'cb_label':'FoP in LCCs (%)',      'levels':np.arange(0,105.,5.), 'vmin':0, 'vmax': 100,   'diff_levels':np.arange(-100,110,10),   'diff_vmin':-100, 'diff_vmax':100},\n",
    "     'FoS'  : {'cb_label':'FoS in sLCCs (%)',     'levels':np.arange(0,105.,5.), 'vmin':0, 'vmax': 100,   'diff_levels':np.arange(-100,110,10),   'diff_vmin':-100, 'diff_vmax':100},\n",
    "     # 'pr_eff': {'cb_label':'PE in sLCCs (h$^{-1}$)', 'levels':np.arange(0,550.,50.), 'vmin':0, 'vmax':500,   'diff_levels':np.arange(-120,140,20),   'diff_vmin':-120, 'diff_vmax':120},\n",
    "     'FLCC-FsLCC': {'cb_label':'FLCC (%), FsLCC (%)',  'levels':np.arange(0,105.,5.), 'vmin':0, 'vmax': 100,   'diff_levels':np.arange(-100,110,10),   'diff_vmin':-100, 'diff_vmax':100},\n",
    "     'sf_eff': {'cb_label':'SE in sLCCs (h$^{-1}$)','levels':np.arange(0,5.5,.5), 'vmin':0, 'vmax': 5,   'diff_levels':np.arange(-1.2,1.4,.2),   'diff_vmin':-1.2, 'diff_vmax':1.2},\n",
    "     # 'sf_eff': {'cb_label':'SE in sLCCs (h$^{-1}$)','levels':np.arange(0,9.5,.5), 'vmin':0, 'vmax': 9,   'diff_levels':np.arange(-1.2,1.4,.2),   'diff_vmin':-1.2, 'diff_vmax':1.2},\n",
    "     }\n"
   ]
  },
  {
   "cell_type": "code",
   "execution_count": null,
   "metadata": {},
   "outputs": [],
   "source": [
    "# calculate linear regression and create dataset with values\n",
    "linregress = dict()\n",
    "for var_name in (dict_label.keys()):\n",
    "    linregress[var_name] = fct.get_linear_regression_hemisphere(ratios, var_name)\n",
    "\n",
    "\n",
    "_ds = list(linregress.values())\n",
    "_coord = list(linregress.keys())\n",
    "\n",
    "regression = xr.concat(objs=_ds, dim=_coord).rename({\"concat_dim\":\"variable\"})\n",
    "regression = regression.reindex({'model':['ERA5', 'MIROC6', 'CanESM5', 'AWI-ESM-1-1-LR',\n",
    "                                          'MPI-ESM1-2-LR', 'UKESM1-0-LL', 'HadGEM3-GC31-LL', 'CNRM-CM6-1',\n",
    "                                          'CNRM-ESM2-1', 'IPSL-CM6A-LR', 'IPSL-CM5A2-INCA']})"
   ]
  },
  {
   "cell_type": "code",
   "execution_count": null,
   "metadata": {},
   "outputs": [],
   "source": [
    "# calculate linear regression and create dataset with values\n",
    "linregress_mci = dict()\n",
    "for var_name in (dict_label.keys()):\n",
    "    linregress_mci[var_name] = fct.get_linear_regression_hemisphere(ratios_mci, var_name)\n",
    "\n",
    "\n",
    "_ds = list(linregress_mci.values())\n",
    "_coord = list(linregress_mci.keys())\n",
    "\n",
    "regression_mci = xr.concat(objs=_ds, dim=_coord).rename({\"concat_dim\":\"variable\"})\n",
    "regression_mci = regression_mci.reindex({'model':['ERA5', 'MIROC6', 'CanESM5', 'AWI-ESM-1-1-LR',\n",
    "                                          'MPI-ESM1-2-LR', 'UKESM1-0-LL', 'HadGEM3-GC31-LL', 'CNRM-CM6-1',\n",
    "                                          'CNRM-ESM2-1', 'IPSL-CM6A-LR', 'IPSL-CM5A2-INCA']})"
   ]
  },
  {
   "cell_type": "code",
   "execution_count": null,
   "metadata": {},
   "outputs": [],
   "source": [
    "# .sel(model = ['MIROC6', 'CanESM5', 'AWI-ESM-1-1-LR',\n",
    "#                                                     'MPI-ESM1-2-LR', 'UKESM1-0-LL', 'HadGEM3-GC31-LL', 'CNRM-CM6-1',\n",
    "#                                                     'CNRM-ESM2-1', 'IPSL-CM6A-LR', 'IPSL-CM5A2-INCA'])\n",
    "        "
   ]
  },
  {
   "cell_type": "code",
   "execution_count": null,
   "metadata": {},
   "outputs": [],
   "source": [
    "for var_name in (dict_label.keys()):\n",
    "# for var_name in ['FLCC',]:#      'FLCC-FsLCC', 'FsLCC', 'FoS', 'sf_eff',]:\n",
    "\n",
    "    fct.plt_spatial_season_var(ratios, var_name, dict_label, FIG_DIR, 45, lwp_threshold)\n",
    "    fct.plt_spatial_season_var(ratios_mci, var_name, dict_label, FIG_DIR_mci, 66, lwp_threshold)\n",
    "        \n",
    "    # plot monthly model variation\n",
    "    fct.plt_monthly_model_variation(ratios, var_name, dict_label[var_name],FIG_DIR, lwp_threshold)\n",
    "    fct.plt_monthly_model_variation(ratios_mci, var_name, dict_label[var_name],FIG_DIR_mci, lwp_threshold)\n",
    "        \n",
    "    fct.plt_monthly_interannual_variation(ratios, var_name, lwp_threshold, FIG_DIR, dict_label[var_name])\n",
    "    fct.plt_monthly_interannual_variation(ratios_mci, var_name, lwp_threshold, FIG_DIR_mci, dict_label[var_name])\n",
    "        \n",
    "    fct.plt_percent_difference_season(ratios, var_name, lwp_threshold, dict_label[var_name], FIG_DIR)\n",
    "    fct.plt_percent_difference_season(ratios_mci, var_name, lwp_threshold, dict_label[var_name], FIG_DIR_mci)\n",
    "\n",
    "    # plot scatter CloudSat vs model\n",
    "    fct.plt_scatter_obs_model(ratios, regression, var_name, dict_label[var_name], FIG_DIR, lwp_threshold)\n",
    "    fct.plt_scatter_obs_model(ratios_mci, regression_mci, var_name, dict_label[var_name], FIG_DIR_mci, lwp_threshold)\n",
    "\n",
    "    # # plot variable for individual model\n",
    "    # fct.plt_spatial_season_all_models(ratios, var_name, dict_label, FIG_DIR, 45)\n",
    "    # # fct.plt_spatial_season_all_models(ratios_mci, var_name, dict_label, FIG_DIR_mci, 66)\n",
    "    \n",
    "# plot R2 values for all values and both hemispheres\n",
    "fct.plt_R2_heatmap_season(regression, dict_label, FIG_DIR, lwp_threshold)\n",
    "fct.plt_R2_heatmap_season(regression_mci, dict_label, FIG_DIR_mci, lwp_threshold)\n"
   ]
  },
  {
   "cell_type": "code",
   "execution_count": null,
   "metadata": {},
   "outputs": [],
   "source": [
    "for var_name in ['FoS',]:#              'sf_eff', 'FLCC','FLCC-FsLCC','FsLCC',:\n",
    "# plot variable for individual model\n",
    "    fct.plt_spatial_season_all_models(ratios, var_name, dict_label, FIG_DIR, 45)\n",
    "    fct.plt_spatial_season_all_models(ratios_mci, var_name, dict_label, FIG_DIR_mci, 66)"
   ]
  },
  {
   "cell_type": "code",
   "execution_count": null,
   "metadata": {},
   "outputs": [],
   "source": []
  }
 ],
 "metadata": {
  "kernelspec": {
   "display_name": "globalsnow",
   "language": "python",
   "name": "python3"
  },
  "language_info": {
   "codemirror_mode": {
    "name": "ipython",
    "version": 3
   },
   "file_extension": ".py",
   "mimetype": "text/x-python",
   "name": "python",
   "nbconvert_exporter": "python",
   "pygments_lexer": "ipython3",
   "version": "3.10.6"
  },
  "orig_nbformat": 4,
  "vscode": {
   "interpreter": {
    "hash": "01a47c9201b0e71806f8317dc994d10479d7bb1c7bfa2fc7a59a724dd50a1c8a"
   }
  }
 },
 "nbformat": 4,
 "nbformat_minor": 2
}
