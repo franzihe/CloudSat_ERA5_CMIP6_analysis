{
 "cells": [
  {
   "cell_type": "markdown",
   "id": "709c8e52",
   "metadata": {},
   "source": [
    "# Example with CMIP6 models (100 - 500 km)\n",
    "\n",
    "\n",
    "# Table of Contents\n",
    "<ul>\n",
    "<li><a href=\"#introduction\">1. Introduction</a></li>\n",
    "<li><a href=\"#data_wrangling\">2. Data Wrangling</a></li>\n",
    "<li><a href=\"#exploratory\">3. Exploratory Data Analysis</a></li>\n",
    "<li><a href=\"#conclusion\">4. Conclusion</a></li>\n",
    "<li><a href=\"#references\">5. References</a></li>\n",
    "</ul>\n",
    "\n"
   ]
  },
  {
   "cell_type": "markdown",
   "id": "2f77edda",
   "metadata": {},
   "source": [
    "# 1. Introduction <a id='introduction'></a>\n",
    "Cloud feedbacks are a major contributor to the spread of climate sensitivity in global climate models (GCMs) [Zelinka et al. (2020)](https://doi-org.ezproxy.uio.no/10.1029/2019GL085782). Among the most poorly understood cloud feedbacks is the one associated with the cloud phase, which is expected to be modified with climate change [Bjordal et al. (2020)](https://doi-org.ezproxy.uio.no/10.1038/s41561-020-00649-1). Cloud phase bias, in addition, has significant implications for the simulation of radiative properties and glacier and ice sheet mass balances in climate models. \n",
    "\n",
    "In this context, this work aims to expand our knowledge on how the representation of the cloud phase affects snow formation in GCMs. Better understanding this aspect is necessary to develop climate models further and improve future climate predictions. \n",
    "\n",
    "* Retrieve CMIP6 data through [ESGF](https://esgf-node.llnl.gov/search/cmip6/)\n",
    "* Hybrid sigma-pressure coordinates to isobaric pressure levels of the European Centre for Medium-Range Weather Forecast Re-Analysis 5 (ERA5) with [GeoCAT-comb](https://geocat-comp.readthedocs.io/en/latest/index.html)\n",
    "* Regridd the CMIP6 variables to the exact horizontal resolution with [`xesmf`](https://xesmf.readthedocs.io/en/latest/)\n",
    "* Calculate an ensemble mean of all used models\n",
    "* Calculate and plot the seasonal mean of the ensemble mean\n",
    "\n",
    "**Questions**\n",
    "* How is the cloud phase and snowfall varying between 2007 and 2010?\n",
    "\n",
    "> **_NOTE:_** We answer questions related to the comparison of CMIP models to ERA5 in another [Jupyter Notebook](../CMIP6_ERA5_CloudSat/plt_seasonal_mean.ipynb)."
   ]
  },
  {
   "cell_type": "markdown",
   "id": "4f939501",
   "metadata": {},
   "source": [
    "# 2. Data Wrangling <a id='data_wrangling'></a>\n",
    "\n",
    "This study will compare surface snowfall, ice, and liquid water content from the Coupled Model Intercomparison Project Phase 6 ([CMIP6](https://esgf-node.llnl.gov/projects/cmip6/)) climate models to the European Centre for Medium-Range Weather Forecast Re-Analysis 5 ([ERA5](https://www.ecmwf.int/en/forecasts/datasets/reanalysis-datasets/era5)) data from **2006 to 2009**. We conduct statistical analysis at the annual and seasonal timescales to determine the biases in cloud phase and precipitation (liquid and solid) in the CMIP6 models and their potential connection between them. \n",
    "\n",
    "- Time period: 2006 to 2009\n",
    "- horizonal resolution: ~100km\n",
    "- time resolution: monthly atmospheric data (Amon, AERmon)\n",
    "- Variables:\n",
    "  \n",
    "| shortname     |             Long name                   |      Units    |  levels |\n",
    "| ------------- |:---------------------------------------:| -------------:|--------:|\n",
    "|  prsn         |    Snowfall Flux                        | [kg m-2 s-1]  | surface |\n",
    "| clw           |    Mass Fraction of Cloud Liquid Water  |  [kg kg-1]    |    ml   | \n",
    "|               |                                         | to calculate lwp use integral clw -dp/dg | |\n",
    "| tas           |    Near-Surface Air Temperature         |   [K]         | surface |\n",
    "| clivi         |    Ice Water Path                       | [kg m-2]      |         |\n",
    "| lwp           |    Liquid Water Path                    | [kg m-2]      |         |\n",
    "\n",
    "- CMIP6 models:\n",
    "\n",
    "| Institution                                            |     Model name    | Reference                                                     |\n",
    "| ------------------------------------------------------ |:-----------------:|--------------------------------------------------------------:|\n",
    "| [MIROC]() | MIROC6           | [Tatebe et al. (2019)]() |\n",
    "| [NCAR]()  | CESM2            | [Danabasoglu et al. (2020)]()  |\n",
    "| [CCCma]() | CanESM5          | [Swart et al. (2019)]()     |\n",
    "| [AWI]()   | AWI-ESM-1-1-LR   | []() |\n",
    "| [MOHC]()  | UKESM1-0-LL      | []() |\n",
    "| [MOHC]()  | HadGem3-GC31-LL  | [Roberts et al. (2019)]() |\n",
    "| [CNRM-CERFACS]() | CNRM-CM6-1 | [Voldoire et al. (2019)]() |\n",
    "| [CNRM-CERFACS]() | CNRM-ESM2-1| [Seferian et al. (2019)]() |\n",
    "| [IPSL]() | IPSL-CM6A-LR | [Boucher et al. (2020)]() |\n",
    "| [IPSL]() | IPSL-CM5A2-INCA | []()|"
   ]
  },
  {
   "cell_type": "markdown",
   "id": "7b693459",
   "metadata": {},
   "source": [
    "## Organize my data\n",
    "\n",
    "- Define a prefix for my project (you may need to adjust it for your own usage on your infrastructure).\n",
    "    - input folder where all the data used as input to my Jupyter Notebook is stored (and eventually shared)\n",
    "    - output folder where all the results to keep are stored\n",
    "    - tool folder where all the tools\n",
    "\n",
    "The ERA5 0.25deg data is located in the folder `/input/cmip6_hist/daily_means`.\n"
   ]
  },
  {
   "cell_type": "code",
   "execution_count": 1,
   "id": "e9f298f4",
   "metadata": {},
   "outputs": [
    {
     "name": "stdout",
     "output_type": "stream",
     "text": [
      "mimi.uio.no\n"
     ]
    }
   ],
   "source": [
    "import os\n",
    "import pathlib\n",
    "import sys\n",
    "import socket\n",
    "hostname = socket.gethostname()\n",
    "\n",
    "abs_path = str(pathlib.Path(hostname).parent.absolute())\n",
    "WORKDIR = abs_path[:- (len(abs_path.split('/')[-2] + abs_path.split('/')[-1])+1)]\n",
    "\n",
    "\n",
    "if \"mimi\" in hostname:\n",
    "    print(hostname)\n",
    "    DATA_DIR = \"/scratch/franzihe/\"\n",
    "    FIG_DIR = \"/uio/kant/geo-metos-u1/franzihe/Documents/Figures/CMIP6/\"\n",
    "elif \"glefsekaldt\" in hostname: \n",
    "    DATA_DIR = \"/home/franzihe/Data/\"\n",
    "    FIG_DIR = \"/home/franzihe/Documents/Figures/CMIP6/\"\n",
    "\n",
    "INPUT_DATA_DIR = os.path.join(DATA_DIR, 'input')\n",
    "OUTPUT_DATA_DIR = os.path.join(DATA_DIR, 'output')\n",
    "UTILS_DIR = os.path.join(WORKDIR, 'utils')\n",
    "\n",
    "sys.path.append(UTILS_DIR)\n",
    "# make figure directory\n",
    "try:\n",
    "    os.mkdir(FIG_DIR)\n",
    "except OSError:\n",
    "    pass"
   ]
  },
  {
   "cell_type": "markdown",
   "id": "c652dc0b",
   "metadata": {},
   "source": [
    "## Import python packages\n",
    "- `Python` environment requirements: file [requirements_globalsnow.txt](../../requirements_globalsnow.txt) \n",
    "- load `python` packages from [imports.py](../../utils/imports.py)\n",
    "- load `functions` from [functions.py](../../utils/functions.py)\n"
   ]
  },
  {
   "cell_type": "code",
   "execution_count": 2,
   "id": "a4caa42d",
   "metadata": {},
   "outputs": [
    {
     "data": {
      "text/plain": [
       "<xarray.core.options.set_options at 0x7f7a71614c10>"
      ]
     },
     "execution_count": 2,
     "metadata": {},
     "output_type": "execute_result"
    }
   ],
   "source": [
    "# supress warnings\n",
    "import warnings\n",
    "warnings.filterwarnings('ignore') # don't output warnings\n",
    "\n",
    "# import packages\n",
    "from imports import (xr, intake, cftime, xe, glob, np, cm, pd, fct,ccrs, cy, plt, da, gc, datetime, LogNorm)\n",
    "xr.set_options(display_style=\"html\")"
   ]
  },
  {
   "cell_type": "code",
   "execution_count": 3,
   "id": "eb920800",
   "metadata": {},
   "outputs": [],
   "source": [
    "# reload imports\n",
    "%load_ext autoreload\n",
    "%autoreload 2"
   ]
  },
  {
   "cell_type": "markdown",
   "id": "620cb825",
   "metadata": {},
   "source": [
    "## Open CMIP6 variables\n",
    "Get the data required for the analysis. Beforehand we downloaded the daily averaged data on single levels and model levels via."
   ]
  },
  {
   "cell_type": "code",
   "execution_count": 6,
   "id": "99ceedce",
   "metadata": {},
   "outputs": [],
   "source": [
    "cmip_in = os.path.join(INPUT_DATA_DIR, 'cmip6_hist/daily_means')\n",
    "cmip_out = os.path.join(OUTPUT_DATA_DIR, 'cmip6_hist/daily_means/common_grid')\n",
    "\n",
    "# make output data directory\n",
    "try:\n",
    "    os.mkdir(cmip_out)\n",
    "except OSError:\n",
    "    pass"
   ]
  },
  {
   "cell_type": "code",
   "execution_count": 7,
   "id": "994d8804",
   "metadata": {},
   "outputs": [],
   "source": [
    "variable_id = ['clw', 'cli', 'clivi', 'tas', 'prsn']"
   ]
  },
  {
   "cell_type": "markdown",
   "id": "424276a6",
   "metadata": {},
   "source": [
    "At the moment we have downloaded the end of the historical simulations for CMIP6 models. We define start and end year to ensure to only extract the 4-year period between 2007 and 2010.\n",
    "\n",
    "$\\rightarrow$ Define a start and end year\n",
    "\n",
    "We will load all available models into one dictonary, which includes an xarray dataset with `xarray.open_mfdataset(file)` and select the time range [by name](https://xarray.pydata.org/en/stable/user-guide/indexing.html)."
   ]
  },
  {
   "cell_type": "code",
   "execution_count": 8,
   "id": "598731dd",
   "metadata": {},
   "outputs": [],
   "source": [
    "# source_id\n",
    "list_models = [\n",
    "               'MIROC6', \n",
    "            #    'CESM2', \n",
    "            #    'CanESM5', \n",
    "            #    'AWI-ESM-1-1-LR', \n",
    "            #    'MPI-ESM1-2-LR', \n",
    "            # #    'UKESM1-0-LL', \n",
    "            # #    'HadGEM3-GC31-LL',\n",
    "            #    'CNRM-CM6-1',\n",
    "            #    'CNRM-ESM2-1',\n",
    "            #    'IPSL-CM6A-LR',\n",
    "            #    'IPSL-CM5A2-INCA'\n",
    "            ]\n",
    "\n",
    "## experiment\n",
    "experiment_id = ['historical']\n",
    "\n",
    "## time resolution\n",
    "t_res = ['day',]"
   ]
  },
  {
   "cell_type": "markdown",
   "id": "20590565",
   "metadata": {},
   "source": [
    "## Search corresponding data\n",
    "Get the data required for the analysis. Define variables, models, experiment, and time resolution as defined in <a href=\"#data_wrangling\">2. Data Wrangling</a>\n",
    ". "
   ]
  },
  {
   "cell_type": "code",
   "execution_count": 9,
   "id": "f4824d8d",
   "metadata": {},
   "outputs": [],
   "source": [
    "starty = 2006; endy = 2009\n",
    "year_range = range(starty, endy+1)\n",
    "\n",
    "dset_dict = dict()\n",
    "for model in list_models:\n",
    "    cmip_file_in = glob('{}/*{}_{}_{}*'.format(cmip_in, t_res[0], model, experiment_id[0]))\n",
    "    if len(cmip_file_in) != 0:\n",
    "        dset_dict[model] = xr.open_mfdataset(sorted(cmip_file_in), combine='nested', compat='override', use_cftime=True)\n",
    "        # select only years needed for analysis\n",
    "        dset_dict[model] = dset_dict[model].sel(time = dset_dict[model]['time'].dt.year.isin(year_range)).squeeze()\n",
    "        # shift longitude to be from -180 to 180\n",
    "        dset_dict[model] = dset_dict[model].assign_coords(lon=(((dset_dict[model]['lon'] + 180) % 360) - 180)).sortby('lon').sortby('time')\n",
    "    else:\n",
    "        continue"
   ]
  },
  {
   "cell_type": "markdown",
   "id": "5e1b8fba",
   "metadata": {},
   "source": [
    "## Show attributes and individual identifier\n",
    "... is going to be the reference model for the horizontal grid. The `xarray` datasets inside `dset_dict` can be extracted as any value in a Python dictionary.\n",
    "\n",
    "The dictonary key is the source_id from `list_models`."
   ]
  },
  {
   "cell_type": "code",
   "execution_count": 12,
   "id": "671441bd",
   "metadata": {},
   "outputs": [
    {
     "name": "stdout",
     "output_type": "stream",
     "text": [
      "Institution: MIROC,           Model: MIROC6,             Nominal res: 250 km,            lon x lat, level, top,: MIROC6 (2017): \n",
      "aerosol: SPRINTARS6.0\n",
      "atmos: CCSR AGCM (T85; 256 x 128 longitude/latitude; 81 levels; top level 0.004 hPa)\n",
      "atmosChem: none\n",
      "land: MATSIRO6.0\n",
      "landIce: none\n",
      "ocean: COCO4.9 (tripolar primarily 1deg; 360 x 256 longitude/latitude; 63 levels; top grid cell 0-2 m)\n",
      "ocnBgchem: none\n",
      "seaIce: COCO4.9,           tracking_id: hdl:21.14100/8f0458b4-d43b-46ef-9a32-0c14d7a44fcf\n"
     ]
    }
   ],
   "source": [
    "for model in dset_dict.keys():\n",
    "    print('Institution: {}, \\\n",
    "          Model: {},   \\\n",
    "          Nominal res: {},  \\\n",
    "          lon x lat, level, top,: {}, \\\n",
    "          tracking_id: {}'.format(dset_dict[model].attrs['institution_id'],\n",
    "                                  dset_dict[model].attrs['source_id'], \n",
    "                                  dset_dict[model].attrs['nominal_resolution'], \n",
    "                                  dset_dict[model].attrs['source'],\n",
    "                                  dset_dict[model].attrs['tracking_id']))"
   ]
  },
  {
   "cell_type": "markdown",
   "id": "26a7bc1a",
   "metadata": {},
   "source": [
    "## Assign attributes to the variables\n",
    "\n",
    "We will assign the attributes to the variables as in ERA5 to make CMIP6 and ERA5 variables comperable.\n",
    "\n",
    "* [`pr`](http://clipc-services.ceda.ac.uk/dreq/u/62f26742cf240c1b5169a5cd511196b6.html) and [`prsn`](http://clipc-services.ceda.ac.uk/dreq/u/051919eddec810e292c883205c944ceb.html) in **kg m-2 s-1** $\\rightarrow$ Multiply by **3600** to get **mm h-1**\n"
   ]
  },
  {
   "cell_type": "code",
   "execution_count": 13,
   "id": "a275d842",
   "metadata": {},
   "outputs": [],
   "source": [
    "now = datetime.utcnow()\n",
    "for model in dset_dict.keys():\n",
    "# \n",
    "    for var_id in dset_dict[model].keys():\n",
    "         \n",
    "        if var_id == 'prsn':\n",
    "            dset_dict[model][var_id] = dset_dict[model][var_id]*3600\n",
    "            dset_dict[model][var_id] = dset_dict[model][var_id].assign_attrs({'standard_name': 'snowfall_flux',\n",
    "    'long_name': 'Snowfall Flux',\n",
    "    'comment': 'At surface; includes precipitation of all forms of water in the solid phase',\n",
    "    'units': 'mm h-1',\n",
    "    'original_units': 'kg m-2 s-1',\n",
    "    'history': \"{}Z altered by F. Hellmuth: Converted units from 'kg m-2 s-1' to 'mm h-1'.\".format(now.strftime(\"%d/%m/%Y %H:%M:%S\")),\n",
    "    'cell_methods': 'area: time: mean',\n",
    "    'cell_measures': 'area: areacella'})"
   ]
  },
  {
   "cell_type": "markdown",
   "id": "931123a2",
   "metadata": {},
   "source": [
    " ## Interpolate from CMIP6 hybrid sigma-pressure levels to ERA5 isobaric pressure levels\n",
    "\n",
    "The vertical variables in the CMIP6 models are in hybrid sigma-pressure levels. Hence the vertical variable in the xarray datasets in `dset_dict` will be calculated by using the formula:\n",
    "$$ P(i,j,k) = hyam(k) p0 + hybm(k) ps(i,j)$$\n",
    "to calculate the pressure\n",
    "\n",
    "\n"
   ]
  },
  {
   "cell_type": "code",
   "execution_count": 14,
   "id": "65502d66",
   "metadata": {},
   "outputs": [],
   "source": [
    "# Rename datasets with different naming convention for constant hyam\n",
    "for model in dset_dict.keys():\n",
    "    if ('a' in list(dset_dict[model].keys())) == True:\n",
    "        dset_dict[model] = dset_dict[model].rename({'a':'ap', 'a_bnds': 'ap_bnds'})\n",
    "    if model == 'IPSL-CM6A-LR':\n",
    "        dset_dict[model] = dset_dict[model].rename({'presnivs':'plev'})\n",
    "    if model == 'IPSL-CM5A2-INCA':\n",
    "        dset_dict[model] = dset_dict[model].rename({'lev':'plev'})\n",
    "    "
   ]
  },
  {
   "cell_type": "code",
   "execution_count": 15,
   "id": "b34de05e",
   "metadata": {},
   "outputs": [
    {
     "name": "stdout",
     "output_type": "stream",
     "text": [
      "MIROC6 cli lev, ap, ps, p0\n",
      "MIROC6 clw lev, ap, ps, p0\n"
     ]
    }
   ],
   "source": [
    "for model in dset_dict.keys():\n",
    "    for var_id in dset_dict[model].keys():#['clw', 'cli']:\n",
    "        if var_id == 'clw' or var_id == 'cli':\n",
    "            # Convert the model level to isobaric levels\n",
    "            #### ap, b, ps, p0\n",
    "            if ('ap' in list(dset_dict[model].keys())) == True and \\\n",
    "                ('ps' in list(dset_dict[model].keys())) == True and \\\n",
    "                ('p0' in list(dset_dict[model].keys())) == True:\n",
    "                if ('lev' in list(dset_dict[model][var_id].coords)) == True and \\\n",
    "                    ('lev' in list(dset_dict[model]['ap'].coords)) == True and \\\n",
    "                    ('lev' in list(dset_dict[model]['b'].coords)) == True:\n",
    "                        print(model, var_id, 'lev, ap, ps, p0')\n",
    "                        dset_dict[model]['plev'] = dset_dict[model]['ap']*dset_dict[model]['p0'] + dset_dict[model]['b']*dset_dict[model]['ps']\n",
    "                        dset_dict[model]['plev'] = dset_dict[model]['plev'].transpose('time', 'lev','lat','lon')\n",
    "                \n",
    "                if ('plev' in list(dset_dict[model][var_id].coords)) == True:\n",
    "                    print(model, var_id, 'variable on pressure levels', )\n",
    "                \n",
    "            # Convert the model level to isobaric levels\n",
    "            #### ap, b, p0\n",
    "            if ('ap' in list(dset_dict[model].keys())) == True and \\\n",
    "                ('ps' in list(dset_dict[model].keys())) == True and \\\n",
    "                ('p0' in list(dset_dict[model].keys())) == False:\n",
    "                if ('lev' in list(dset_dict[model][var_id].coords)) == True and \\\n",
    "                    ('lev' in list(dset_dict[model]['ap'].coords)) == True and \\\n",
    "                    ('lev' in list(dset_dict[model]['b'].coords)) == True:\n",
    "                        print(model,var_id, 'lev, ap, ps,')\n",
    "                        dset_dict[model]['plev'] = dset_dict[model]['ap'] + dset_dict[model]['b']*dset_dict[model]['ps']\n",
    "                        dset_dict[model]['plev'] = dset_dict[model]['plev'].transpose('time', 'lev','lat','lon')\n",
    "                \n",
    "                if ('plev' in list(dset_dict[model][var_id].coords)) == True:\n",
    "                    print(model, var_id, 'variable on pressure levels', )\n",
    "                \n",
    "            if ('b' in list(dset_dict[model].keys())) == True and \\\n",
    "                ('orog' in list(dset_dict[model].keys())) == True:\n",
    "                if ('lev' in list(dset_dict[model][var_id].coords)) == True and \\\n",
    "                    ('lev' in list(dset_dict[model]['pfull'].coords)) == True:\n",
    "                        print(model, 'hybrid height coordinate')\n",
    "                \n"
   ]
  },
  {
   "cell_type": "markdown",
   "id": "8057c788",
   "metadata": {},
   "source": [
    "## Calculate liquid water path from content"
   ]
  },
  {
   "cell_type": "code",
   "execution_count": 16,
   "id": "6a1523e0",
   "metadata": {},
   "outputs": [
    {
     "name": "stdout",
     "output_type": "stream",
     "text": [
      "MIROC6 plev\n"
     ]
    }
   ],
   "source": [
    "for model in dset_dict.keys():\n",
    "    \n",
    "    if ('plev' in list(dset_dict[model].keys())) == True:\n",
    "        print(model, 'plev')\n",
    "        _lwp = xr.DataArray(data=da.full(shape=dset_dict[model]['clw'].shape,fill_value=np.nan),\n",
    "                                dims=dset_dict[model]['clw'].dims,\n",
    "                                coords=dset_dict[model]['clw'].coords)\n",
    "        # lev2 is the atmospheric pressure, lower in the atmosphere than lev. Sigma-pressure coordinates are from 1 to 0, with 1 at the surface\n",
    "        for i in range(len(dset_dict[model]['lev'])-1):\n",
    "            # calculate pressure difference between two levels\n",
    "            dp = (dset_dict[model]['plev'].isel(lev=i) - dset_dict[model]['plev'].isel(lev=i+1))\n",
    "            # calculate mean liquid water content between two layers\n",
    "            dlwc = (dset_dict[model]['clw'].isel(lev=i) + dset_dict[model]['clw'].isel(lev=i+1))/2\n",
    "            # calculate liquid water path between two layers\n",
    "            _lwp[:,i,:,:] = dp[:,:,:]/9.81 * dlwc[:,:,:]\n",
    "        \n",
    "            # sum over all layers to ge the liquid water path in the atmospheric column\n",
    "            dset_dict[model]['lwp'] = _lwp.sum(dim='lev',skipna=True)\n",
    "            \n",
    "            # assign attributes to data array\n",
    "            dset_dict[model]['lwp'] = dset_dict[model]['lwp'].assign_attrs(dset_dict[model]['clw'].attrs)\n",
    "            dset_dict[model]['lwp'] = dset_dict[model]['lwp'].assign_attrs({'long_name':'Liquid Water Path', \n",
    "                                                                            'units' : 'kg m-2',\n",
    "                                                                                'mipTable':'', 'out_name': 'lwp',\n",
    "                                                                                'standard_name': 'atmosphere_mass_content_of_cloud_liquid_water',\n",
    "                                                                                'title': 'Liquid Water Path',\n",
    "                                                                                'variable_id': 'lwp', 'original_units': 'kg/kg',\n",
    "                                                                                'history': \"{}Z altered by F. Hellmuth: Interpolate data from hybrid-sigma levels to isobaric levels with P=a*p0 + b*psfc. Calculate lwp with hydrostatic equation.\".format(now.strftime(\"%d/%m/%Y %H:%M:%S\"))})\n",
    "        # when ice water path does not exist\n",
    "        if ('clivi' in list(dset_dict[model].keys())) == False:\n",
    "            _iwp = xr.DataArray(data=da.full(shape=dset_dict[model]['cli'].shape,fill_value=np.nan),\n",
    "                                    dims=dset_dict[model]['cli'].dims,\n",
    "                                    coords=dset_dict[model]['cli'].coords)\n",
    "            # lev2 is the atmospheric pressure, lower in the atmosphere than lev. Sigma-pressure coordinates are from 1 to 0, with 1 at the surface\n",
    "            for i in range(len(dset_dict[model]['lev'])-1):\n",
    "                # calculate pressure difference between two levels\n",
    "                dp = (dset_dict[model]['plev'].isel(lev=i) - dset_dict[model]['plev'].isel(lev=i+1))\n",
    "                # calculate mean liquid water content between two layers\n",
    "                diwc = (dset_dict[model]['cli'].isel(lev=i) + dset_dict[model]['cli'].isel(lev=i+1))/2\n",
    "                # calculate liquid water path between two layers\n",
    "                _iwp[:,i,:,:] = dp[:,:,:]/9.81 * diwc[:,:,:]\n",
    "            \n",
    "                \n",
    "                # sum over all layers to ge the Ice water path in the atmospheric column\n",
    "                dset_dict[model]['clivi'] = _iwp.sum(dim='lev',skipna=True)\n",
    "                \n",
    "                # assign attributes to data array\n",
    "                dset_dict[model]['clivi'] = dset_dict[model]['clivi'].assign_attrs(dset_dict[model]['cli'].attrs)\n",
    "                dset_dict[model]['clivi'] = dset_dict[model]['clivi'].assign_attrs({'long_name':'Ice Water Path', \n",
    "                                                                                'units' : 'kg m-2',\n",
    "                                                                                    'mipTable':'', 'out_name': 'clivi',\n",
    "                                                                                    'standard_name': 'atmosphere_mass_content_of_cloud_ice_water',\n",
    "                                                                                    'title': 'Ice Water Path',\n",
    "                                                                                    'variable_id': 'clivi', 'original_units': 'kg/kg',\n",
    "                                                                                    'history': \"{}Z altered by F. Hellmuth: Interpolate data from hybrid-sigma levels to isobaric levels with P=a*p0 + b*psfc. Calculate clivi with hydrostatic equation.\".format(now.strftime(\"%d/%m/%Y %H:%M:%S\"))})\n",
    "            \n",
    "    if ('plev' in list(dset_dict[model].coords)) == True:\n",
    "        print(model, 'plev coord')\n",
    "        _lwp = xr.DataArray(data=da.full(shape=dset_dict[model]['clw'].shape,fill_value=np.nan),\n",
    "                                dims=dset_dict[model]['clw'].dims,\n",
    "                                coords=dset_dict[model]['clw'].coords)\n",
    "        # lev2 is the atmospheric pressure, lower in the atmosphere than lev. Sigma-pressure coordinates are from 1 to 0, with 1 at the surface\n",
    "        for i in range(len(dset_dict[model]['plev'])-1):\n",
    "            # calculate pressure difference between two levels\n",
    "            dp = (dset_dict[model]['plev'].isel(plev=i) - dset_dict[model]['plev'].isel(plev=i+1))\n",
    "            # calculate mean liquid water content between two layers\n",
    "            dlwc = (dset_dict[model]['clw'].isel(plev=i) + dset_dict[model]['clw'].isel(plev=i+1))/2\n",
    "            # calculate liquid water path between two layers\n",
    "            _lwp[:,i,:,:] = dp/9.81 * dlwc[:,:,:]\n",
    "        \n",
    "            # sum over all layers to ge the liquid water path in the atmospheric column\n",
    "            dset_dict[model]['lwp'] = _lwp.sum(dim='plev',skipna=True)\n",
    "            \n",
    "            # assign attributes to data array\n",
    "            dset_dict[model]['lwp'] = dset_dict[model]['lwp'].assign_attrs(dset_dict[model]['clw'].attrs)\n",
    "            dset_dict[model]['lwp'] = dset_dict[model]['lwp'].assign_attrs({'long_name':'Liquid Water Path', \n",
    "                                                                            'units' : 'kg m-2',\n",
    "                                                                                'mipTable':'', 'out_name': 'lwp',\n",
    "                                                                                'standard_name': 'atmosphere_mass_content_of_cloud_liquid_water',\n",
    "                                                                                'title': 'Liquid Water Path',\n",
    "                                                                                'variable_id': 'lwp', 'original_units': 'kg/kg',\n",
    "                                                                                'history': \"{}Z altered by F. Hellmuth: Interpolate data from hybrid-sigma levels to isobaric levels with P=a*p0 + b*psfc. Calculate lwp with hydrostatic equation.\".format(now.strftime(\"%d/%m/%Y %H:%M:%S\"))})\n",
    "        # when ice water path does not exist\n",
    "        if ('clivi' in list(dset_dict[model].keys())) == False:\n",
    "            _iwp = xr.DataArray(data=da.full(shape=dset_dict[model]['cli'].shape,fill_value=np.nan),\n",
    "                                    dims=dset_dict[model]['cli'].dims,\n",
    "                                    coords=dset_dict[model]['cli'].coords)\n",
    "            # lev2 is the atmospheric pressure, lower in the atmosphere than lev. Sigma-pressure coordinates are from 1 to 0, with 1 at the surface\n",
    "            for i in range(len(dset_dict[model]['plev'])-1):\n",
    "                # calculate pressure difference between two levels\n",
    "                dp = (dset_dict[model]['plev'].isel(plev=i) - dset_dict[model]['plev'].isel(plev=i+1))\n",
    "                # calculate mean liquid water content between two layers\n",
    "                diwc = (dset_dict[model]['cli'].isel(plev=i) + dset_dict[model]['cli'].isel(plev=i+1))/2\n",
    "                # calculate liquid water path between two layers\n",
    "                _iwp[:,i,:,:] = dp/9.81 * diwc[:,:,:]\n",
    "            \n",
    "                \n",
    "                # sum over all layers to ge the Ice water path in the atmospheric column\n",
    "                dset_dict[model]['clivi'] = _iwp.sum(dim='plev',skipna=True)\n",
    "                \n",
    "                # assign attributes to data array\n",
    "                dset_dict[model]['clivi'] = dset_dict[model]['clivi'].assign_attrs(dset_dict[model]['clw'].attrs)\n",
    "                dset_dict[model]['clivi'] = dset_dict[model]['clivi'].assign_attrs({'long_name':'Ice Water Path', \n",
    "                                                                                'units' : 'kg m-2',\n",
    "                                                                                    'mipTable':'', 'out_name': 'clivi',\n",
    "                                                                                    'standard_name': 'atmosphere_mass_content_of_cloud_ice_water',\n",
    "                                                                                    'title': 'Ice Water Path',\n",
    "                                                                                    'variable_id': 'clivi', 'original_units': 'kg/kg',\n",
    "                                                                                    'history': \"{}Z altered by F. Hellmuth: Interpolate data from hybrid-sigma levels to isobaric levels with P=a*p0 + b*psfc. Calculate clivi with hydrostatic equation.\".format(now.strftime(\"%d/%m/%Y %H:%M:%S\"))})\n",
    "            "
   ]
  },
  {
   "cell_type": "markdown",
   "id": "4b6f845b",
   "metadata": {},
   "source": [
    "# Set values between -45S and 45N to nan"
   ]
  },
  {
   "cell_type": "code",
   "execution_count": null,
   "id": "942dee84",
   "metadata": {},
   "outputs": [],
   "source": [
    "def set3D_lat_values_nan(array, upper_lat, lower_lat):\n",
    "    l_lat = array['lat'].loc[array['lat'] == (array['lat'].sel(lat=slice(lower_lat,upper_lat))).min()][0].values\n",
    "    u_lat = array['lat'].loc[array['lat'] == (array['lat'].sel(lat=slice(lower_lat,upper_lat))).max()][0].values\n",
    "    array[:,array['lat'].where(array['lat']==l_lat).argmin('lat').values: array['lat'].where(array['lat']==u_lat).argmin('lat').values,:] = xr.DataArray(data=da.full(shape=(array[:,array['lat'].where(array['lat']==l_lat).argmin('lat').values: array['lat'].where(array['lat']==u_lat).argmin('lat').values,:]).shape,\n",
    "                                                                                                                                                                      fill_value=np.nan),\n",
    "                                                                                                                                                         dims=(array[:,array['lat'].where(array['lat']==l_lat).argmin('lat').values: array['lat'].where(array['lat']==u_lat).argmin('lat').values,:]).dims,\n",
    "                                                                                                                                                         coords=(array[:,array['lat'].where(array['lat']==l_lat).argmin('lat').values: array['lat'].where(array['lat']==u_lat).argmin('lat').values,:]).coords)\n",
    "    return array\n",
    "    "
   ]
  },
  {
   "cell_type": "code",
   "execution_count": null,
   "id": "ac998bdf",
   "metadata": {},
   "outputs": [],
   "source": [
    "for model in dset_dict.keys():\n",
    "    \n",
    "    dset_dict[model]['prsn'] = set3D_lat_values_nan(dset_dict[model]['prsn'], 45, -45)\n",
    "    dset_dict[model]['lwp']  = set3D_lat_values_nan(dset_dict[model]['lwp'], 45, -45)\n",
    "    dset_dict[model]['clivi']= set3D_lat_values_nan(dset_dict[model]['clivi'], 45, -45)\n",
    "    dset_dict[model]['tas']  = set3D_lat_values_nan(dset_dict[model]['tas'], 45, -45)"
   ]
  },
  {
   "cell_type": "markdown",
   "id": "58e27c9f",
   "metadata": {},
   "source": [
    "## Reduce dataset to only include 3D values (time,lat,lon)"
   ]
  },
  {
   "cell_type": "code",
   "execution_count": null,
   "id": "5ce95656",
   "metadata": {},
   "outputs": [],
   "source": [
    "for model in dset_dict.keys():\n",
    "    if 'plev' in list(dset_dict[model].dims) and 'lev' in list(dset_dict[model].dims):\n",
    "        # print('drop: plev, lev', list(dset_dict[model].dims))\n",
    "        dset_dict[model] = dset_dict[model].drop_dims(('lev', 'plev'))\n",
    "        try: \n",
    "            dset_dict[model] = dset_dict[model].drop_dims(('nbnd'))\n",
    "        except ValueError:\n",
    "            try:\n",
    "                dset_dict[model] = dset_dict[model].drop_dims(('bnds'))\n",
    "            except ValueError:\n",
    "                try: \n",
    "                    dset_dict[model] = dset_dict[model].drop_dims(('axis_nbounds'))\n",
    "                except ValueError:\n",
    "                    print('model does not contain')\n",
    "                \n",
    "    if 'plev' in list(dset_dict[model].dims) and 'klevp1' in list(dset_dict[model].dims):\n",
    "        # print('drop: plev, kplev1', list(dset_dict[model].dims))\n",
    "        dset_dict[model] = dset_dict[model].drop_dims(('plev', 'klevp1'))\n",
    "        try: \n",
    "            dset_dict[model] = dset_dict[model].drop_dims(('nbnd'))\n",
    "        except ValueError:\n",
    "            try:\n",
    "                dset_dict[model] = dset_dict[model].drop_dims(('bnds'))\n",
    "            except ValueError:\n",
    "                try: \n",
    "                    dset_dict[model] = dset_dict[model].drop_dims(('axis_nbounds'))\n",
    "                except ValueError:\n",
    "                    print('model does not contain')"
   ]
  },
  {
   "cell_type": "markdown",
   "id": "6d6f7c5f",
   "metadata": {},
   "source": [
    "## Create files with variables needed"
   ]
  },
  {
   "cell_type": "code",
   "execution_count": null,
   "id": "ae1f07ad",
   "metadata": {},
   "outputs": [],
   "source": [
    "for model in dset_dict.keys():\n",
    "    for var in ['prsn', 'tas', 'clivi', 'lwp',]:\n",
    "        for year in year_range:\n",
    "            print('Writing files: var: {}, year: {}, model: {}'.format(var, year, model))\n",
    "            (dset_dict[model][var].sel(time=slice(str(year)), lat=slice(-90,-45))).to_netcdf('{}/{}_{}_-90_-45_historical_{}_gn_{}0101-{}1231.nc'.format(cmip_in,var, model, dset_dict[model].attrs['variant_label'],year, year))\n",
    "            (dset_dict[model][var].sel(time=slice(str(year)), lat=slice(45,90))).to_netcdf('{}/{}_{}_45_90_historical_{}_gn_{}0101-{}1231.nc'.format(cmip_in,var, model, dset_dict[model].attrs['variant_label'],year, year))"
   ]
  },
  {
   "cell_type": "markdown",
   "id": "3add6210",
   "metadata": {},
   "source": [
    "# References <a id='references'></a>\n",
    "\n",
    "\n",
    "[1] Zelinka, M. D., Myers, T. A., McCoy, D. T., Po-Chedley, S., Caldwell, P. M., Ceppi, P., et al. (2020). Causes of higher climate sensitivity in CMIP6 models. Geophysical Research Letters, 47, e2019GL085782. https://doi-org.ezproxy.uio.no/10.1029/2019GL085782 \n",
    "\n",
    "[2] Bjordal, J., Storelvmo, T., Alterskjær, K. et al. Equilibrium climate sensitivity above 5 °C plausible due to state-dependent cloud feedback. Nat. Geosci. 13, 718–721 (2020). https://doi-org.ezproxy.uio.no/10.1038/s41561-020-00649-1 \n",
    "\n",
    "[3] Wu, T., Lu, Y., Fang, Y., Xin, X., Li, L., Li, W., Jie, W., Zhang, J., Liu, Y., Zhang, L., Zhang, F., Zhang, Y., Wu, F., Li, J., Chu, M., Wang, Z., Shi, X., Liu, X., Wei, M., Huang, A., Zhang, Y., and Liu, X.: The Beijing Climate Center Climate System Model (BCC-CSM): the main progress from CMIP5 to CMIP6 , Geosci. Model Dev., 12, 1573–1600, https://doi.org/10.5194/gmd-12-1573-2019, 2019. \n",
    "\n",
    "[4] Lee, W.-L., Wang, Y.-C., Shiu, C.-J., Tsai, I., Tu, C.-Y., Lan, Y.-Y., Chen, J.-P., Pan, H.-L., and Hsu, H.-H.: Taiwan Earth System Model Version 1: description and evaluation of mean state, Geosci. Model Dev., 13, 3887–3904, https://doi.org/10.5194/gmd-13-3887-2020, 2020. \n",
    "\n",
    "[5] Bian HE, Yongqiang YU, Qing BAO, Pengfei LIN, Hailong LIU, Jinxiao LI, Lei WANG, Yimin LIU, Guoxiong WU, Kangjun CHEN, Yuyang GUO, Shuwen ZHAO, Xiaoqi ZHANG, Mirong SONG & Jinbo XIE (2020) CAS FGOALS-f3-L model dataset descriptions for CMIP6 DECK experiments, Atmospheric and Oceanic Science Letters, 13:6, 582-588, DOI: 10.1080/16742834.2020.1778419 \n",
    "\n",
    "[6] Cherchi, A., Fogli, P. G., Lovato, T., Peano, D., Iovino, D., Gualdi, S., et al. (2019). Global mean climate and main patterns of variability in the CMCC-CM2 coupled model. Journal of Advances in Modeling Earth Systems, 11, 185– 209. https://doi-org.ezproxy.uio.no/10.1029/2018MS001369 \n",
    "\n",
    "[7] van Noije, T., Bergman, T., Le Sager, P., O'Donnell, D., Makkonen, R., Gonçalves-Ageitos, M., Döscher, R., Fladrich, U., von Hardenberg, J., Keskinen, J.-P., Korhonen, H., Laakso, A., Myriokefalitakis, S., Ollinaho, P., Pérez García-Pando, C., Reerink, T., Schrödner, R., Wyser, K., and Yang, S.: EC-Earth3-AerChem: a global climate model with interactive aerosols and atmospheric chemistry participating in CMIP6 , Geosci. Model Dev., 14, 5637–5668, https://doi.org/10.5194/gmd-14-5637-2021, 2021. \n",
    "\n",
    "[8] Golaz, J.-C., Caldwell, P. M., Van Roekel, L. P., Petersen, M. R., Tang, Q., Wolfe, J. D., et al. (2019). The DOE E3SM coupled model version 1: Overview and evaluation at standard resolution. Journal of Advances in Modeling Earth Systems, 11, 2089– 2129. https://doi-org.ezproxy.uio.no/10.1029/2018MS001603 \n",
    "\n",
    "[9] Burrows, S. M., Maltrud, M., Yang, X., Zhu, Q., Jeffery, N., Shi, X., et al. (2020). The DOE E3SM v1.1 biogeochemistry configuration: Description and simulated ecosystem-climate responses to historical changes in forcing. Journal of Advances in Modeling Earth Systems, 12, e2019MS001766. https://doi-org.ezproxy.uio.no/10.1029/2019MS001766 \n",
    "\n",
    "[10] Müller, W. A., Jungclaus, J. H., Mauritsen, T., Baehr, J., Bittner, M., Budich, R., et al. (2018). A higher-resolution version of the Max Planck Institute Earth System Model (MPI-ESM1.2-HR). Journal of Advances in Modeling Earth Systems, 10, 1383– 1413. https://doi-org.ezproxy.uio.no/10.1029/2017MS001217 \n",
    "\n",
    "[11] Yukimoto, S., H. Kawai, T. Koshiro, N. Oshima, K. Yoshida, S. Urakawa, H. Tsujino, M. Deushi, T. Tanaka, M. Hosaka, S. Yabu, H. Yoshimura, E. Shindo, R. Mizuta, A. Obata, Y. Adachi, and M. Ishii, 2019: The Meteorological Research Institute Earth System Model version 2.0, MRI-ESM2.0: Description and basic evaluation of the physical component. J. Meteor. Soc. Japan, 97, 931–965, doi:10.2151/jmsj.2019-051.\n",
    "\n",
    "[12] Seland, Ø., Bentsen, M., Olivié, D., Toniazzo, T., Gjermundsen, A., Graff, L. S., Debernard, J. B., Gupta, A. K., He, Y.-C., Kirkevåg, A., Schwinger, J., Tjiputra, J., Aas, K. S., Bethke, I., Fan, Y., Griesfeller, J., Grini, A., Guo, C., Ilicak, M., Karset, I. H. H., Landgren, O., Liakka, J., Moseid, K. O., Nummelin, A., Spensberger, C., Tang, H., Zhang, Z., Heinze, C., Iversen, T., and Schulz, M.: Overview of the Norwegian Earth System Model (NorESM2) and key climate response of CMIP6 DECK, historical, and scenario simulations, Geosci. Model Dev., 13, 6165–6200, https://doi.org/10.5194/gmd-13-6165-2020, 2020. \n",
    "\n",
    "[13] Held, I. M., Guo, H., Adcroft, A., Dunne, J. P., Horowitz, L. W., Krasting, J., et al. (2019). Structure and performance of GFDL's CM4.0 climate model. Journal of Advances in Modeling Earth Systems, 11, 3691– 3727. https://doi-org.ezproxy.uio.no/10.1029/2019MS001829 \n",
    "\n",
    "[14] Dunne, J. P., Horowitz, L. W., Adcroft, A. J., Ginoux, P., Held, I. M., John, J. G., et al. (2020). The GFDL Earth System Model Version 4.1 (GFDL-ESM 4.1): Overall coupled model description and simulation characteristics. Journal of Advances in Modeling Earth Systems, 12, e2019MS002015. https://doi-org.ezproxy.uio.no/10.1029/2019MS002015 \n",
    "\n",
    "[15] Park, S., Shin, J., Kim, S., Oh, E., & Kim, Y. (2019). Global Climate Simulated by the Seoul National University Atmosphere Model Version 0 with a Unified Convection Scheme (SAM0-UNICON), Journal of Climate, 32(10), 2917-2949. Retrieved Jan 12, 2022, from https://journals-ametsoc-org.ezproxy.uio.no/view/journals/clim/32/10/jcli-d-18-0796.1.xml\n",
    "\n",
    "[16] Lin, Y., Huang, X., Liang, Y., Qin, Y., Xu, S., & Huang, W., et al. (2020). Community Integrated Earth System Model (CIESM): Description and evaluation. Journal of Advances in Modeling Earth Systems, 12, e2019MS002036. https://doi-org.ezproxy.uio.no/10.1029/2019MS002036 "
   ]
  },
  {
   "cell_type": "markdown",
   "id": "9188a63c",
   "metadata": {},
   "source": [
    "\n",
    "<img src=\"https://drive.google.com/uc?id=1zb0LHvipx8JOXLLrCxzYToJM7eNK4eaw\"  height=\"100\" />\n",
    "<img src=\"https://reliance.rohub.org/static/media/Reliance-logo.433dc2e9.png\"  height=\"100\" />\n",
    "\n",
    "<img src=\"https://www.uio.no/vrtx/decorating/resources/dist/src2/images/footer/uio-logo-en.svg\"  height=\"100\" />\n",
    "<img src=\"https://erc.europa.eu/sites/default/files/logo_0.png\"  height=\"100\" />\n"
   ]
  },
  {
   "cell_type": "markdown",
   "id": "9ecfbcf9",
   "metadata": {},
   "source": []
  }
 ],
 "metadata": {
  "interpreter": {
   "hash": "7f24944080b15318569c1ef785be98f8dd5a0531d3a23558ab9e7edab213d92e"
  },
  "kernelspec": {
   "display_name": "Python 3.10.6 ('globalsnow': conda)",
   "language": "python",
   "name": "python3"
  },
  "language_info": {
   "codemirror_mode": {
    "name": "ipython",
    "version": 3
   },
   "file_extension": ".py",
   "mimetype": "text/x-python",
   "name": "python",
   "nbconvert_exporter": "python",
   "pygments_lexer": "ipython3",
   "version": "3.10.6"
  },
  "vscode": {
   "interpreter": {
    "hash": "7f24944080b15318569c1ef785be98f8dd5a0531d3a23558ab9e7edab213d92e"
   }
  }
 },
 "nbformat": 4,
 "nbformat_minor": 5
}
