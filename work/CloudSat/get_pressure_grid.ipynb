{
 "cells": [
  {
   "cell_type": "markdown",
   "metadata": {},
   "source": [
    "# Example to get CloudSat mean pressure level profile\n",
    "\n",
    "\n",
    "# Table of Contents\n",
    "<ul>\n",
    "<li><a href=\"#introduction\">1. Introduction</a></li>\n",
    "<li><a href=\"#data_wrangling\">2. Data Wrangling</a></li>\n",
    "<li><a href=\"#exploratory\">3. Exploratory Data Analysis</a></li>\n",
    "<li><a href=\"#conclusion\">4. Conclusion</a></li>\n",
    "<li><a href=\"#references\">5. References</a></li>\n",
    "</ul>\n",
    "\n",
    "# 1. Introduction <a id='introduction'></a>\n",
    "\n",
    "**Questions**\n",
    "\n",
    "\n",
    "> **_NOTE:_** The pressure grid created here is used later in the  [Jupyter Notebook](./read_2C_snow.ipynb) to calculate the monthly means of CloudSat variables.\n",
    "\n",
    "# 2. Data Wrangling <a id='data_wrangling'></a>\n",
    "\n",
    "This study will retrieve the CloudSat mean pressure grid from the [ECMWF-AUX files](https://www.cloudsat.cira.colostate.edu/data-products/ecmwf-aux). We decided to use the CloudSat overpasses from 2008 as this is the year with the most CloudSat available data. We make use of the `scipy.optimize.curve_fit` function to calculate pressure levels.\n",
    "\n",
    "\n",
    "- Time period: 2007\n",
    "- time resolution: daily atmospheric overpasses \n",
    "- Variables:\n",
    "  \n",
    "|              Long name                   |      Units    |  Dimension |\n",
    "| :---------------------------------------:| -------------:|--------:|\n",
    "|    Pressure                              |[Pa]           | nray, nbin |\n",
    "\n",
    "\n",
    "\n"
   ]
  },
  {
   "cell_type": "code",
   "execution_count": 2,
   "metadata": {},
   "outputs": [
    {
     "name": "stdout",
     "output_type": "stream",
     "text": [
      "mimi.uio.no\n"
     ]
    }
   ],
   "source": [
    "import os\n",
    "import pathlib\n",
    "import sys\n",
    "import socket\n",
    "hostname = socket.gethostname()\n",
    "\n",
    "abs_path = str(pathlib.Path(hostname).parent.absolute())\n",
    "WORKDIR = abs_path[:- (len(abs_path.split('/')[-2] + abs_path.split('/')[-1])+1)]\n",
    "\n",
    "\n",
    "if \"mimi\" in hostname:\n",
    "    print(hostname)\n",
    "    DATA_DIR = \"/scratch/franzihe/\"\n",
    "    # FIG_DIR = \"/uio/kant/geo-metos-u1/franzihe/Documents/Figures/ERA5/\"\n",
    "elif \"glefsekaldt\" in hostname: \n",
    "    DATA_DIR = \"/home/franzihe/Data/\"\n",
    "    # FIG_DIR = \"/home/franzihe/Documents/Figures/ERA5/\"\n",
    "\n",
    "INPUT_DATA_DIR = os.path.join(DATA_DIR, 'input')\n",
    "OUTPUT_DATA_DIR = os.path.join(DATA_DIR, 'output')\n",
    "UTILS_DIR = os.path.join(WORKDIR, 'utils')\n",
    "\n",
    "sys.path.append(UTILS_DIR)\n",
    "# make figure directory\n",
    "# try:\n",
    "#     os.mkdir(FIG_DIR)\n",
    "# except OSError:\n",
    "#     pass"
   ]
  },
  {
   "cell_type": "markdown",
   "metadata": {},
   "source": [
    "## Import python packages\n",
    "- `Python` environment requirements: file [globalsnow.yml](../globalsnow.yml) \n",
    "- load `python` packages from [imports.py](../utils/imports.py)\n",
    "- load `functions` from [functions.py](../utils/functions.py)"
   ]
  },
  {
   "cell_type": "code",
   "execution_count": 3,
   "metadata": {},
   "outputs": [],
   "source": [
    "# supress warnings\n",
    "import warnings\n",
    "warnings.filterwarnings('ignore') # don't output warnings\n",
    "\n",
    "# import packages\n",
    "from imports import(xr, ccrs, cy, plt, glob, fct, np, da, datetime, timedelta, h5py, curve_fit)"
   ]
  },
  {
   "cell_type": "code",
   "execution_count": 4,
   "metadata": {},
   "outputs": [],
   "source": [
    "# reload imports\n",
    "%load_ext autoreload\n",
    "%autoreload 2"
   ]
  },
  {
   "cell_type": "markdown",
   "metadata": {},
   "source": [
    "## Open CloudSat variables\n",
    "Get the data requried for the analysis. Beforehand we downloaded the [ECMWF-AUX files](https://www.cloudsat.cira.colostate.edu/data-products/ecmwf-aux) with the script provided on the [CloudSat webpage](https://cswww.cira.colostate.edu/code_library/cloudsat_ftp.plx).\n",
    "\n",
    "\n",
    "\n",
    "The CloudSat data is located in the folder `/input/CloudSat/` and individual folders for the CloudSat product. The 2C-SNOW-PROFILEs are in `/2C-SNOW-PROFILE.P1_R05/` while the ECMWF-AUX files are in `/ECMWF-AUX.P_R05/`. Each year has extra folders for the day of the year, where all CloudSat granules can be found of that specific day. \n"
   ]
  },
  {
   "cell_type": "code",
   "execution_count": 5,
   "metadata": {},
   "outputs": [],
   "source": [
    "cs_in = os.path.join(INPUT_DATA_DIR, 'CloudSat/ECMWF-AUX.P_R05')\n",
    "cs_out = os.path.join(OUTPUT_DATA_DIR, 'CloudSat/ECMWF-AUX.P_R05')\n",
    "# make output data directory\n",
    "try:\n",
    "    os.mkdir(cs_out)\n",
    "except OSError:\n",
    "    pass"
   ]
  },
  {
   "cell_type": "code",
   "execution_count": 6,
   "metadata": {},
   "outputs": [],
   "source": [
    "ff_ec = sorted(glob('{}/2007/*/*_ECMWF-AUX_GRANULE_P_R05_*.h5'.format(cs_in, )))"
   ]
  },
  {
   "cell_type": "code",
   "execution_count": 7,
   "metadata": {},
   "outputs": [],
   "source": [
    "DATA_VARNAMES_EC = [\"Pressure\", ]"
   ]
  },
  {
   "cell_type": "code",
   "execution_count": null,
   "metadata": {},
   "outputs": [],
   "source": [
    "empty = np.empty(shape=(37081, 125), dtype='float64')\n",
    "empty[:] = np.nan"
   ]
  },
  {
   "cell_type": "code",
   "execution_count": null,
   "metadata": {},
   "outputs": [],
   "source": [
    "datasets = []\n",
    "\n",
    "for file in ff_ec:\n",
    "    year = int(file.split('/')[-1].split('_')[0][0:4])\n",
    "    doy = int(file.split('/')[-1].split('_')[0][4:7])  # day of the year\n",
    "    tt = datetime(year, 1, 1) + timedelta(doy - 1)\n",
    "    \n",
    "    # for month in range(1, 13):\n",
    "    for month in range(1, 2):\n",
    "        if tt.month == month:\n",
    "            ds = xr.Dataset()\n",
    "            \n",
    "            try: \n",
    "                # load ECMWF-AUX file\n",
    "                print('load ECMWF-AUX...', file)\n",
    "                h5file = h5py.File(file, \"r\")\n",
    "\n",
    "                for var in DATA_VARNAMES_EC:\n",
    "                    ds[var] = fct.get_data_var(h5file['ECMWF-AUX'], var)\n",
    "\n",
    "                datasets.append(ds)\n",
    "                h5file.close()\n",
    "            except OSError:\n",
    "                ds[var] = xr.DataArray(data=empty,\n",
    "                                       dims=[\"nray\", \"nbin\"],\n",
    "                                       coords=dict(\n",
    "                                           nray=([\"nray\"], np.arange(0,37081)),\n",
    "                                           nbin=([\"nbin\"], np.arange(0,125)),),\n",
    "                                       attrs=dict(\n",
    "                                           longname='Pressure',\n",
    "                                           units='Pa'),)\n",
    "                datasets.append(ds)\n",
    "                continue\n",
    "    ds_cs = xr.concat(datasets,dim='nray')\n",
    "\n"
   ]
  },
  {
   "cell_type": "code",
   "execution_count": null,
   "metadata": {},
   "outputs": [],
   "source": [
    "# convert ECMWF pressure to hPa\n",
    "ds_cs['Pressure'] = ds_cs['Pressure']/100\n",
    "\n",
    "# create mean over all granules to create pressure grid\n",
    "ds_cs['Pressure'] = ds_cs['Pressure'].mean('nray', keep_attrs=True, skipna=True)\n",
    "ds_cs['Pressure'].attrs = {'units': 'hPa', 'longname':'Pressure'}"
   ]
  },
  {
   "cell_type": "code",
   "execution_count": null,
   "metadata": {},
   "outputs": [],
   "source": [
    "# create pressure variable without NaN values\n",
    "cs_pressure = ds_cs['Pressure'][np.isfinite(ds_cs['Pressure'])]\n",
    "\n",
    "# find the index where pressure has NaN values \n",
    "idx_where_p_nan = ds_cs['Pressure'][~np.isfinite(ds_cs['Pressure'])].nbin"
   ]
  },
  {
   "cell_type": "code",
   "execution_count": null,
   "metadata": {},
   "outputs": [],
   "source": [
    "# Generate exponential pressure grid from mean over all granules\n",
    "fitting_parameters, covariance = curve_fit(f=fct.exponential_fit, xdata=range(len(cs_pressure)), ydata=cs_pressure.values, p0=[1, -1, 0])\n",
    "\n",
    "# pressure where values were found to be NaN \n",
    "# corrected by 15hPa to fit to existing curve (roughly determined via including last point in exponential_fit)\n",
    "p_where_p_nan = fct.exponential_fit(idx_where_p_nan, fitting_parameters[0], fitting_parameters[1], fitting_parameters[2]) - 15 \n",
    "\n",
    "\n",
    "# Combine the arrays with pressure levels provided by the ECMWF-AUX file and the ones calculated with the exponential fit\n",
    "ds_cs['Pressure_grid'] = xr.concat([cs_pressure, p_where_p_nan], dim = 'nbin', coords='minimal')"
   ]
  },
  {
   "cell_type": "code",
   "execution_count": null,
   "metadata": {},
   "outputs": [],
   "source": [
    "# Email from Sally:\n",
    "# Create a linear height array grid to put all the data on    \n",
    "#     vertical_binsize=240.0  ;m\n",
    "#     height=vertical_binsize/2.0\n",
    "vertical_binsize = 240. \n",
    "height = vertical_binsize/2\n",
    "ds_cs['height'] = xr.DataArray(data = np.arange(height,len(ds_cs['Pressure'])*vertical_binsize, vertical_binsize)[::-1], dims = ds_cs.nbin.dims[0], coords=[ds_cs['nbin'].values])\n",
    "ds_cs['height'].attrs = ({'units':'m', 'longname':'height above ground'})"
   ]
  },
  {
   "cell_type": "code",
   "execution_count": null,
   "metadata": {},
   "outputs": [],
   "source": [
    "# The altitude in meters can be calculated with the international barometric formula:\n",
    "\n",
    "# H = 44330 * [1 - (P/p0)^(1/5.255) ]\n",
    "height_agl = 44330 * (1 - (ds_cs['Pressure_grid']/1013.25) ** (1/5.255))\n",
    "\n",
    "# Assign coordinates and attributes to the coordinate as this will be handy for any plotting later\n",
    "ds_cs['Pressure_grid'] = ds_cs['Pressure_grid'].assign_coords(height_agl=(\"nbin\", height_agl.values))\n",
    "ds_cs['height_agl'].attrs = ({'units':ds_cs['height'].attrs['units'], 'longname': 'height above ground'}) \n",
    "\n",
    "# Round grid values\n",
    "ds_cs['Pressure_grid'] = ds_cs['Pressure_grid'].round(decimals=0)"
   ]
  },
  {
   "cell_type": "code",
   "execution_count": null,
   "metadata": {},
   "outputs": [],
   "source": [
    "# # Example plot of the new pressure grid retrieved with the exponetial fit and the pressure provided by the ECMWF-AUX file\n",
    "# ds_cs['Pressure_grid'].plot(x = 'height_agl')\n",
    "# ds_cs['Pressure'].plot(x = 'height_agl', marker='o')"
   ]
  },
  {
   "cell_type": "code",
   "execution_count": null,
   "metadata": {},
   "outputs": [],
   "source": [
    "# Save DataSet to NetCDF\n",
    "ds_cs.drop(('Pressure', 'nray' )).to_netcdf('{}/pressure_grid.nc'.format(cs_out))\n",
    "print('file written: {}/pressure_grid.nc'.format(cs_out))"
   ]
  }
 ],
 "metadata": {
  "kernelspec": {
   "display_name": "Python 3.10.6 ('globalsnow': conda)",
   "language": "python",
   "name": "python3"
  },
  "language_info": {
   "codemirror_mode": {
    "name": "ipython",
    "version": 3
   },
   "file_extension": ".py",
   "mimetype": "text/x-python",
   "name": "python",
   "nbconvert_exporter": "python",
   "pygments_lexer": "ipython3",
   "version": "3.10.6"
  },
  "orig_nbformat": 4,
  "vscode": {
   "interpreter": {
    "hash": "7f24944080b15318569c1ef785be98f8dd5a0531d3a23558ab9e7edab213d92e"
   }
  }
 },
 "nbformat": 4,
 "nbformat_minor": 2
}
